{
 "cells": [
  {
   "cell_type": "markdown",
   "metadata": {},
   "source": [
    "# Self-Driving Car Engineer Nanodegree\n",
    "\n",
    "## Deep Learning\n",
    "\n",
    "## Project: Build a Traffic Sign Recognition Classifier\n",
    "\n",
    "In this notebook, a template is provided for you to implement your functionality in stages, which is required to successfully complete this project. If additional code is required that cannot be included in the notebook, be sure that the Python code is successfully imported and included in your submission if necessary. \n",
    "\n",
    "> **Note**: Once you have completed all of the code implementations, you need to finalize your work by exporting the iPython Notebook as an HTML document. Before exporting the notebook to html, all of the code cells need to have been run so that reviewers can see the final implementation and output. You can then export the notebook by using the menu above and navigating to  \\n\",\n",
    "    \"**File -> Download as -> HTML (.html)**. Include the finished document along with this notebook as your submission. \n",
    "\n",
    "In addition to implementing code, there is a writeup to complete. The writeup should be completed in a separate file, which can be either a markdown file or a pdf document. There is a [write up template](https://github.com/udacity/CarND-Traffic-Sign-Classifier-Project/blob/master/writeup_template.md) that can be used to guide the writing process. Completing the code template and writeup template will cover all of the [rubric points](https://review.udacity.com/#!/rubrics/481/view) for this project.\n",
    "\n",
    "The [rubric](https://review.udacity.com/#!/rubrics/481/view) contains \"Stand Out Suggestions\" for enhancing the project beyond the minimum requirements. The stand out suggestions are optional. If you decide to pursue the \"stand out suggestions\", you can include the code in this Ipython notebook and also discuss the results in the writeup file.\n",
    "\n",
    "\n",
    ">**Note:** Code and Markdown cells can be executed using the **Shift + Enter** keyboard shortcut. In addition, Markdown cells can be edited by typically double-clicking the cell to enter edit mode."
   ]
  },
  {
   "cell_type": "markdown",
   "metadata": {},
   "source": [
    "---\n",
    "## Step 0: Load The Data"
   ]
  },
  {
   "cell_type": "code",
   "execution_count": 1,
   "metadata": {},
   "outputs": [
    {
     "name": "stdout",
     "output_type": "stream",
     "text": [
      "READ_SAVED_DATA mode enable\n",
      "READ_SAVED_DATA mode enable\n",
      "(53850, 32, 32, 1)\n",
      "<class 'numpy.ndarray'>\n",
      "(53850,)\n",
      "<class 'numpy.ndarray'>\n"
     ]
    }
   ],
   "source": [
    "# Load pickled data\n",
    "import pickle\n",
    "import numpy as np\n",
    "\n",
    "# Enable this variable to avoid generating again the data and instead use the previous save data\n",
    "READ_SAVED_DATA = 1\n",
    "\n",
    "if READ_SAVED_DATA == 1:\n",
    "    training_file = \"traffic-signs-data/save_train.p\"\n",
    "    print(\"READ_SAVED_DATA mode enable\")\n",
    "else:\n",
    "    training_file = \"traffic-signs-data/train.p\"\n",
    "\n",
    "validation_file = \"traffic-signs-data/valid.p\"\n",
    "testing_file = \"traffic-signs-data/test.p\"\n",
    "\n",
    "with open(training_file, mode='rb') as f:\n",
    "    train = pickle.load(f)\n",
    "with open(validation_file, mode='rb') as f:\n",
    "    valid = pickle.load(f)\n",
    "with open(testing_file, mode='rb') as f:\n",
    "    test = pickle.load(f)\n",
    "\n",
    "if READ_SAVED_DATA == 1:\n",
    "    X_train_gry, y_train = train['features'], train['labels']\n",
    "    print(\"READ_SAVED_DATA mode enable\")\n",
    "else:\n",
    "    X_train, y_train = train['features'], train['labels']\n",
    "    \n",
    "X_valid, y_valid = valid['features'], valid['labels']\n",
    "X_test, y_test = test['features'], test['labels']\n",
    "\n",
    "if READ_SAVED_DATA == 1:\n",
    "    print(X_train_gry.shape)\n",
    "    print(type(X_train_gry))\n",
    "else:\n",
    "    print(X_train.shape)\n",
    "    print(type(X_train))\n",
    "print(y_train.shape)\n",
    "print(type(y_train))"
   ]
  },
  {
   "cell_type": "markdown",
   "metadata": {},
   "source": [
    "---\n",
    "\n",
    "## Step 1: Dataset Summary & Exploration\n",
    "\n",
    "The pickled data is a dictionary with 4 key/value pairs:\n",
    "\n",
    "- `'features'` is a 4D array containing raw pixel data of the traffic sign images, (num examples, width, height, channels).\n",
    "- `'labels'` is a 1D array containing the label/class id of the traffic sign. The file `signnames.csv` contains id -> name mappings for each id.\n",
    "- `'sizes'` is a list containing tuples, (width, height) representing the original width and height the image.\n",
    "- `'coords'` is a list containing tuples, (x1, y1, x2, y2) representing coordinates of a bounding box around the sign in the image. **THESE COORDINATES ASSUME THE ORIGINAL IMAGE. THE PICKLED DATA CONTAINS RESIZED VERSIONS (32 by 32) OF THESE IMAGES**\n",
    "\n",
    "Complete the basic data summary below. Use python, numpy and/or pandas methods to calculate the data summary rather than hard coding the results. For example, the [pandas shape method](http://pandas.pydata.org/pandas-docs/stable/generated/pandas.DataFrame.shape.html) might be useful for calculating some of the summary results. "
   ]
  },
  {
   "cell_type": "markdown",
   "metadata": {},
   "source": [
    "### Provide a Basic Summary of the Data Set Using Python, Numpy and/or Pandas"
   ]
  },
  {
   "cell_type": "code",
   "execution_count": 2,
   "metadata": {},
   "outputs": [
    {
     "name": "stdout",
     "output_type": "stream",
     "text": [
      "Number of training examples = 53850\n",
      "Number of validation examples = 4410\n",
      "Number of testing examples = 12630\n",
      "Image data shape = (32, 32, 1)\n",
      "Number of classes = 43\n"
     ]
    }
   ],
   "source": [
    "### Replace each question mark with the appropriate value. \n",
    "### Use python, pandas or numpy methods rather than hard coding the results\n",
    "\n",
    "# TODO: Number of training examples\n",
    "n_train = y_train.shape[0]\n",
    "\n",
    "# TODO: Number of validation examples\n",
    "n_validation = y_valid.shape[0]\n",
    "\n",
    "# TODO: Number of testing examples.\n",
    "n_test = y_test.shape[0]\n",
    "\n",
    "# TODO: What's the shape of an traffic sign image?\n",
    "if READ_SAVED_DATA == 1:\n",
    "    image_shape = X_train_gry.shape[1:]\n",
    "else:\n",
    "    image_shape = X_train.shape[1:]\n",
    "\n",
    "# TODO: How many unique classes/labels there are in the dataset.\n",
    "n_classes = np.max(y_train)+1\n",
    "\n",
    "print(\"Number of training examples =\", n_train)\n",
    "print(\"Number of validation examples =\", n_validation)\n",
    "print(\"Number of testing examples =\", n_test)\n",
    "print(\"Image data shape =\", image_shape)\n",
    "print(\"Number of classes =\", n_classes)"
   ]
  },
  {
   "cell_type": "markdown",
   "metadata": {},
   "source": [
    "### Ploting Histograms to see distribution"
   ]
  },
  {
   "cell_type": "code",
   "execution_count": 3,
   "metadata": {},
   "outputs": [
    {
     "data": {
      "text/plain": [
       "<Figure size 640x480 with 1 Axes>"
      ]
     },
     "metadata": {},
     "output_type": "display_data"
    },
    {
     "name": "stdout",
     "output_type": "stream",
     "text": [
      "[1080. 1980. 2010. 1260. 1770. 1650. 1080. 1290. 1260. 1320. 1800. 1170.\n",
      " 1890. 1920. 1080. 1080. 1080. 1080. 1080. 1080. 1080. 1080. 1080. 1080.\n",
      " 1080. 1350. 1080. 1080. 1080. 1080. 1080. 1080. 1080. 1080. 1080. 1080.\n",
      " 1080. 1080. 1860. 1080. 1080. 1080. 1080.]\n"
     ]
    }
   ],
   "source": [
    "import matplotlib.pyplot as plt\n",
    "# histogram of label frequency for training images\n",
    "hist_train,bins_train,_=plt.hist(y_train, bins=n_classes, rwidth =0.7)\n",
    "plt.grid(True)\n",
    "plt.show()\n",
    "print(hist_train)"
   ]
  },
  {
   "cell_type": "code",
   "execution_count": 4,
   "metadata": {},
   "outputs": [
    {
     "data": {
      "image/png": "[encoded data removed]",
      "text/plain": [
       "<Figure size 432x288 with 1 Axes>"
      ]
     },
     "metadata": {
      "needs_background": "light"
     },
     "output_type": "display_data"
    },
    {
     "name": "stdout",
     "output_type": "stream",
     "text": [
      "[ 30. 240. 240. 150. 210. 210.  60. 150. 150. 150. 210. 150. 210. 240.\n",
      "  90.  90.  60. 120. 120.  30.  60.  60.  60.  60.  30. 150.  60.  30.\n",
      "  60.  30.  60.  90.  30.  90.  60. 120.  60.  30. 210.  30.  60.  30.\n",
      "  30.]\n"
     ]
    }
   ],
   "source": [
    "# histogram of label frequency for validation images\n",
    "hist_valid,bins_valid,_ = plt.hist(y_valid, bins=n_classes, rwidth =0.7)\n",
    "plt.grid(True)\n",
    "plt.show()\n",
    "print(hist_valid)"
   ]
  },
  {
   "cell_type": "code",
   "execution_count": 5,
   "metadata": {},
   "outputs": [
    {
     "data": {
      "image/png": "[encoded data removed]",
      "text/plain": [
       "<Figure size 432x288 with 1 Axes>"
      ]
     },
     "metadata": {
      "needs_background": "light"
     },
     "output_type": "display_data"
    },
    {
     "name": "stdout",
     "output_type": "stream",
     "text": [
      "[ 60. 720. 750. 450. 660. 630. 150. 450. 450. 480. 660. 420. 690. 720.\n",
      " 270. 210. 150. 360. 390.  60.  90.  90. 120. 150.  90. 480. 180.  60.\n",
      " 150.  90. 150. 270.  60. 210. 120. 390. 120.  60. 690.  90.  90.  60.\n",
      "  90.]\n"
     ]
    }
   ],
   "source": [
    "# histogram of label frequency for testing images\n",
    "hist_test,bins_test,_ = plt.hist(y_test, bins=n_classes, rwidth =0.7)\n",
    "plt.grid(True)\n",
    "plt.show()\n",
    "print(hist_test)"
   ]
  },
  {
   "cell_type": "markdown",
   "metadata": {},
   "source": [
    "### Include an exploratory visualization of the dataset"
   ]
  },
  {
   "cell_type": "markdown",
   "metadata": {},
   "source": [
    "Visualize the German Traffic Signs Dataset using the pickled file(s). This is open ended, suggestions include: plotting traffic sign images, plotting the count of each sign, etc. \n",
    "\n",
    "The [Matplotlib](http://matplotlib.org/) [examples](http://matplotlib.org/examples/index.html) and [gallery](http://matplotlib.org/gallery.html) pages are a great resource for doing visualizations in Python.\n",
    "\n",
    "**NOTE:** It's recommended you start with something simple first. If you wish to do more, come back to it after you've completed the rest of the sections. It can be interesting to look at the distribution of classes in the training, validation and test set. Is the distribution the same? Are there more examples of some classes than others?"
   ]
  },
  {
   "cell_type": "code",
   "execution_count": 6,
   "metadata": {},
   "outputs": [
    {
     "name": "stdout",
     "output_type": "stream",
     "text": [
      "Not necesary in READ_SAVED_DATA mode\n"
     ]
    }
   ],
   "source": [
    "### Data exploration visualization code goes here.\n",
    "### Feel free to use as many code cells as needed.\n",
    "import random\n",
    "import matplotlib.image as mpimg\n",
    "import cv2\n",
    "# Visualizations will be shown in the notebook.\n",
    "\n",
    "if READ_SAVED_DATA != 1:\n",
    "    X_train_gry = np.sum(X_train/3, axis=3, keepdims=True)\n",
    "else:\n",
    "    print(\"Not necesary in READ_SAVED_DATA mode\")\n",
    "    \n",
    "X_valid_gry = np.sum(X_valid/3, axis=3, keepdims=True)\n",
    "X_test_gry = np.sum(X_test/3, axis=3, keepdims=True)"
   ]
  },
  {
   "cell_type": "markdown",
   "metadata": {},
   "source": [
    "### Rotation example"
   ]
  },
  {
   "cell_type": "code",
   "execution_count": 7,
   "metadata": {},
   "outputs": [
    {
     "name": "stdout",
     "output_type": "stream",
     "text": [
      "Not necesary in READ_SAVED_DATA mode\n"
     ]
    }
   ],
   "source": [
    "if READ_SAVED_DATA != 1:\n",
    "    index = random.randint(0, len(X_train))\n",
    "    image_rgb = X_train[index].squeeze()\n",
    "\n",
    "    image = X_train_gry[index].squeeze()\n",
    "    \n",
    "    #rotate image \n",
    "    random_angle = np.random.choice(np.random.uniform(-10,10,100))\n",
    "    rows,cols= image.shape\n",
    "    M = cv2.getRotationMatrix2D((cols/2-.5,rows/2-.5),random_angle,1)\n",
    "    rot_image = cv2.warpAffine(image,M,(cols,rows))\n",
    "    print(rot_image.shape)\n",
    "    print(type(rot_image))\n",
    "    rot_image= np.reshape(rot_image, (1,32,32, 1))\n",
    "\n",
    "    print(X_train_gry.shape)\n",
    "\n",
    "    fig = plt.figure(figsize=(10, 10))\n",
    "    fig.add_subplot(2, 2, 1)\n",
    "    plt.imshow(image_rgb)\n",
    "    fig.add_subplot(2, 2, 2)\n",
    "    plt.imshow(image, cmap=\"gray\") \n",
    "    fig.add_subplot(2, 2, 3)\n",
    "    plt.imshow(rot_image.squeeze(), cmap=\"gray\") \n",
    "\n",
    "\n",
    "    plt.show()\n",
    "    %matplotlib inline\n",
    "else:\n",
    "    print(\"Not necesary in READ_SAVED_DATA mode\")"
   ]
  },
  {
   "cell_type": "markdown",
   "metadata": {},
   "source": [
    "### Translation example"
   ]
  },
  {
   "cell_type": "code",
   "execution_count": 8,
   "metadata": {},
   "outputs": [
    {
     "name": "stdout",
     "output_type": "stream",
     "text": [
      "Not necesary in READ_SAVED_DATA mode\n"
     ]
    }
   ],
   "source": [
    "def translation(img):\n",
    "    translatio_x = np.random.choice(np.arange(5))\n",
    "    translatio_y = np.random.choice(np.arange(5))\n",
    "    M = np.float32([[1, 0, translatio_x], [0, 1, translatio_y]])\n",
    "    rows, cols, _ = img.shape\n",
    "    result = cv2.warpAffine(img, M, (cols, rows))\n",
    "    result = np.reshape(result, (1,32,32, 1))\n",
    "    return result\n",
    "\n",
    "if READ_SAVED_DATA != 1:\n",
    "    index = random.randint(0, len(X_train))\n",
    "    image_rgb = X_train[index].squeeze()\n",
    "\n",
    "    image = X_train_gry[index]\n",
    "    \n",
    "    translated_image = translation(image)\n",
    "    \n",
    "    print(translated_image.shape)\n",
    "    \n",
    "    fig = plt.figure(figsize=(10, 10))\n",
    "    fig.add_subplot(2, 2, 1)\n",
    "    plt.imshow(image_rgb)\n",
    "    fig.add_subplot(2, 2, 2)\n",
    "    plt.imshow(image.squeeze(), cmap=\"gray\") \n",
    "    fig.add_subplot(2, 2, 3)\n",
    "    plt.imshow(translated_image.squeeze(), cmap=\"gray\") \n",
    "\n",
    "\n",
    "    plt.show()\n",
    "    %matplotlib inline\n",
    "else:\n",
    "    print(\"Not necesary in READ_SAVED_DATA mode\")\n",
    "    "
   ]
  },
  {
   "cell_type": "markdown",
   "metadata": {},
   "source": [
    "### Adjusting Brightness example "
   ]
  },
  {
   "cell_type": "code",
   "execution_count": 9,
   "metadata": {},
   "outputs": [
    {
     "name": "stdout",
     "output_type": "stream",
     "text": [
      "Not necesary in READ_SAVED_DATA mode\n"
     ]
    }
   ],
   "source": [
    "if READ_SAVED_DATA != 1:\n",
    "    index = random.randint(0, len(X_train_gry))\n",
    "    image = X_train_gry[index].squeeze()\n",
    "\n",
    "    Mat_bright = np.ones((32, 32,1))\n",
    "    max_v = np.amax(X_train_gry[index])\n",
    "    min_v = np.amin(X_train_gry[index]) \n",
    "\n",
    "    print(max_v,min_v)\n",
    "\n",
    "    if max_v < 235:\n",
    "        test_i = X_train_gry[index] + ((255-max_v) * Mat_bright)\n",
    "        print(\"Max value: \",np.amax(test_i))\n",
    "    else:\n",
    "        test_i = X_train_gry[index] - (min_v * Mat_bright)\n",
    "        print(\"Min value: \",np.amin(test_i))\n",
    "\n",
    "    print(test_i.shape)\n",
    "\n",
    "\n",
    "    fig = plt.figure(figsize=(10, 10))\n",
    "    fig.add_subplot(1, 2, 1)\n",
    "    plt.imshow(image, cmap=\"gray\")\n",
    "    fig.add_subplot(1, 2, 2)\n",
    "    plt.imshow(test_i.squeeze(), cmap=\"gray\") \n",
    "    plt.show()\n",
    "else:\n",
    "    print(\"Not necesary in READ_SAVED_DATA mode\")"
   ]
  },
  {
   "cell_type": "code",
   "execution_count": 10,
   "metadata": {},
   "outputs": [
    {
     "name": "stdout",
     "output_type": "stream",
     "text": [
      "Not necesary in READ_SAVED_DATA mode\n"
     ]
    }
   ],
   "source": [
    "if READ_SAVED_DATA != 1:\n",
    "    index = random.randint(0, len(X_train_gry))\n",
    "    print(y_train[index], hist_train[y_train[index]])\n",
    "else:\n",
    "    print(\"Not necesary in READ_SAVED_DATA mode\")"
   ]
  },
  {
   "cell_type": "markdown",
   "metadata": {},
   "source": [
    "## Add rotate images to train model"
   ]
  },
  {
   "cell_type": "markdown",
   "metadata": {},
   "source": [
    "### Rotate between -10 and 10 degrees randomly and shuffle them"
   ]
  },
  {
   "cell_type": "code",
   "execution_count": 11,
   "metadata": {},
   "outputs": [
    {
     "name": "stdout",
     "output_type": "stream",
     "text": [
      "Not necesary in READ_SAVED_DATA mode\n"
     ]
    }
   ],
   "source": [
    "from sklearn.utils import shuffle\n",
    "\n",
    "if READ_SAVED_DATA != 1:\n",
    "    minimun_type_repetitions = 180\n",
    "\n",
    "    #super y array to store all the new value of y added\n",
    "    y_train_super = y_train\n",
    "    hist_train , x = np.histogram(y_train_super, bins=n_classes)\n",
    "\n",
    "    def rotate_images(X,y,hist_train,y_train_super):\n",
    "        first_porcessing_count = 0\n",
    "        print(len(X))\n",
    "        for i in range(len(X)):\n",
    "            num_img_type_repetitions = hist_train[y[i]]\n",
    "            if num_img_type_repetitions < (minimun_type_repetitions*6):\n",
    "                image = X[i]\n",
    "                #rotate image \n",
    "                random_angle = np.random.choice(np.random.uniform(-10,10,100))\n",
    "                rows,cols,depth= image.shape\n",
    "                M = cv2.getRotationMatrix2D((cols/2-.5,rows/2-.5),random_angle,1)\n",
    "                rot_image = cv2.warpAffine(image,M,(cols,rows))\n",
    "                rot_image = np.reshape(rot_image, (1,32,32, 1))\n",
    "\n",
    "                if first_porcessing_count == 0:\n",
    "                    X_temp = rot_image\n",
    "                    y_temp = np.array([y[i]])\n",
    "                    first_porcessing_count += 1\n",
    "                else:\n",
    "                    X_temp=np.concatenate((X_temp,rot_image))\n",
    "                    y_temp = np.concatenate((y_temp,np.array([y[i]])))\n",
    "\n",
    "                #Adding y[i] value to the super y array to calculate again the histogram\n",
    "                y_train_super = np.concatenate((y_train_super,np.array([y[i]])))\n",
    "                hist_train,_= np.histogram(y_train_super, bins=n_classes)\n",
    "\n",
    "            print(i)\n",
    "        return X_temp, y_temp, hist_train, y_train_super\n",
    "    \n",
    "    def translate_images(X,y,hist_train,y_train_super):\n",
    "        first_porcessing_count = 0\n",
    "        print(len(X))\n",
    "        for i in range(len(X)):\n",
    "            num_img_type_repetitions = hist_train[y[i]]\n",
    "            if num_img_type_repetitions < (minimun_type_repetitions*6):\n",
    "                image = X[i]\n",
    "                #translate image \n",
    "\n",
    "                trans_image = translation(image)\n",
    "\n",
    "                if first_porcessing_count == 0:\n",
    "                    X_temp = rot_image\n",
    "                    y_temp = np.array([y[i]])\n",
    "                    first_porcessing_count += 1\n",
    "                else:\n",
    "                    X_temp=np.concatenate((X_temp,rot_image))\n",
    "                    y_temp = np.concatenate((y_temp,np.array([y[i]])))\n",
    "\n",
    "                #Adding y[i] value to the super y array to calculate again the histogram\n",
    "                y_train_super = np.concatenate((y_train_super,np.array([y[i]])))\n",
    "                hist_train,_= np.histogram(y_train_super, bins=n_classes)\n",
    "\n",
    "            print(i)\n",
    "        return X_temp, y_temp, hist_train, y_train_super\n",
    "      \n",
    "    print(\"Randon Rotation 1\") \n",
    "    X_train_gry_rot, y_train_rot, hist_train, y_train_super = rotate_images(X_train_gry, y_train,hist_train,y_train_super)\n",
    "    X_train_gry_rot, y_train_rot= shuffle(X_train_gry_rot, y_train_rot)\n",
    "    print(\"Randon Rotation 2\") \n",
    "    X_train_gry_trans, y_train_trans, hist_train, y_train_super = translate_images(X_train_gry, y_train ,hist_train,y_train_super)\n",
    "    X_train_gry_trans, y_train_trans = shuffle(X_train_gry_trans, y_train_trans)\n",
    "\n",
    "    print(X_train_gry_rot.shape,\"rot\")\n",
    "    print(X_train_gry_trans.shape,\"rot\")\n",
    "\n",
    "    X_train_gry, y_train = shuffle(X_train_gry, y_train)\n",
    "else:\n",
    "    print(\"Not necesary in READ_SAVED_DATA mode\")"
   ]
  },
  {
   "cell_type": "code",
   "execution_count": 12,
   "metadata": {},
   "outputs": [
    {
     "name": "stdout",
     "output_type": "stream",
     "text": [
      "Not necesary in READ_SAVED_DATA mode\n"
     ]
    }
   ],
   "source": [
    "if READ_SAVED_DATA != 1:\n",
    "    print(X_train_gry.shape, y_train.shape)\n",
    "    print(X_train_gry_rot.shape, y_train_rot.shape)\n",
    "    print(X_train_gry_trans.shape, y_train_trans.shape)\n",
    "\n",
    "    hist_train_super,bins_train,_= plt.hist(y_train_super, bins=n_classes, rwidth =0.7)\n",
    "    plt.grid(True)\n",
    "    plt.show()\n",
    "    print(hist_train_super)\n",
    "else:\n",
    "    print(\"Not necesary in READ_SAVED_DATA mode\")"
   ]
  },
  {
   "cell_type": "code",
   "execution_count": 13,
   "metadata": {},
   "outputs": [
    {
     "name": "stdout",
     "output_type": "stream",
     "text": [
      "Not necesary in READ_SAVED_DATA mode\n"
     ]
    }
   ],
   "source": [
    "if READ_SAVED_DATA != 1:\n",
    "    y_train_temp = np.concatenate((np.concatenate((y_train, y_train_rot)),y_train_trans))\n",
    "    hist_train_super,bins_train,_= plt.hist(y_train_temp, bins=n_classes, rwidth =0.7)\n",
    "    plt.grid(True)\n",
    "    plt.show()\n",
    "    print(hist_train_super)\n",
    "else:\n",
    "    print(\"Not necesary in READ_SAVED_DATA mode\")"
   ]
  },
  {
   "cell_type": "markdown",
   "metadata": {},
   "source": [
    "### Adjusting Brightness"
   ]
  },
  {
   "cell_type": "code",
   "execution_count": 14,
   "metadata": {},
   "outputs": [
    {
     "name": "stdout",
     "output_type": "stream",
     "text": [
      "Not necesary in READ_SAVED_DATA mode\n"
     ]
    }
   ],
   "source": [
    "if READ_SAVED_DATA != 1:\n",
    "    \n",
    "    Mat_bright = np.ones((32, 32,1))\n",
    "    minimun_type_repetitions = 180\n",
    "\n",
    "    def change_brightness_images(X,y,hist_train,y_train_super):\n",
    "        first_porcessing_count = 0\n",
    "        print(len(X))\n",
    "        for i in range(len(X)):\n",
    "            num_img_type_repetitions = hist_train[y[i]]\n",
    "            if num_img_type_repetitions < (minimun_type_repetitions*6):\n",
    "                image = X[i]\n",
    "\n",
    "                #taking minimum and maximum values of the images\n",
    "                max_v = np.amax(image)\n",
    "                min_v = np.amin(image) \n",
    "\n",
    "                if max_v < 235:\n",
    "                    image_diff_bright = image + ((255-max_v) * Mat_bright)\n",
    "                else:\n",
    "                    image_diff_bright = image - (min_v * Mat_bright)\n",
    "\n",
    "                image_diff_bright = np.reshape(image_diff_bright, (1,32,32, 1))\n",
    "\n",
    "                if first_porcessing_count == 0:\n",
    "                    X_temp = image_diff_bright\n",
    "                    y_temp = np.array([y[i]])\n",
    "                    first_porcessing_count += 1\n",
    "                else:\n",
    "                    X_temp=np.concatenate((X_temp,image_diff_bright))\n",
    "                    y_temp = np.concatenate((y_temp,np.array([y[i]])))\n",
    "\n",
    "                #Adding y[i] value to the super y array to calculate again the histogram\n",
    "                y_train_super = np.concatenate((y_train_super,np.array([y[i]])))\n",
    "                hist_train,_= np.histogram(y_train_super, bins=n_classes)\n",
    "\n",
    "            print(i)\n",
    "        return X_temp, y_temp, hist_train, y_train_super\n",
    "\n",
    "    print(\"Changing brightness original images\") \n",
    "    X_train_gry_bright, y_train_bright,hist_train_super, y_train_super = change_brightness_images(X_train_gry, y_train,hist_train_super,y_train_super)\n",
    "    X_train_gry_bright, y_train_bright = shuffle(X_train_gry_bright, y_train_bright)\n",
    "\n",
    "    print(\"Changing brightness rot images\") \n",
    "    X_train_gry_rot_bright, y_train_rot_bright,hist_train_super, y_train_super = change_brightness_images(X_train_gry_rot, y_train_rot,hist_train_super,y_train_super)\n",
    "    X_train_gry_rot_bright, y_train_rot_bright = shuffle(X_train_gry_rot_bright, y_train_rot_bright)\n",
    "    print(\"Changing brightness trans images\") \n",
    "    X_train_gry_trans_bright, y_train_trans_bright,hist_train_super, y_train_super = change_brightness_images(X_train_gry_trans, y_train_trans,hist_train_super,y_train_super)\n",
    "    X_train_gry_trans_bright, y_train_trans_bright = shuffle(X_train_gry_trans_bright, y_train_trans_bright)\n",
    "\n",
    "\n",
    "    print(X_train_gry_bright.shape, y_train_bright.shape,\"normal\")\n",
    "    print(X_train_gry_rot_bright.shape, y_train_rot_bright.shape,\"rot 1\")\n",
    "    print(X_train_gry_trans_bright.shape, y_train_trans_bright.shape,\"rot 2\")\n",
    "else:\n",
    "    print(\"Not necesary in READ_SAVED_DATA mode\")"
   ]
  },
  {
   "cell_type": "code",
   "execution_count": 15,
   "metadata": {},
   "outputs": [
    {
     "name": "stdout",
     "output_type": "stream",
     "text": [
      "Not necesary in READ_SAVED_DATA mode\n"
     ]
    }
   ],
   "source": [
    "if READ_SAVED_DATA != 1:\n",
    "    hist_train_super,bins_train,_= plt.hist(y_train_super, bins=n_classes, rwidth =0.7)\n",
    "    plt.grid(True)\n",
    "    plt.show()\n",
    "    print(hist_train_super)\n",
    "else:\n",
    "    print(\"Not necesary in READ_SAVED_DATA mode\")"
   ]
  },
  {
   "cell_type": "code",
   "execution_count": 16,
   "metadata": {},
   "outputs": [
    {
     "name": "stdout",
     "output_type": "stream",
     "text": [
      "Not necesary in READ_SAVED_DATA mode\n"
     ]
    }
   ],
   "source": [
    "if READ_SAVED_DATA != 1:\n",
    "    y_train_temp = np.concatenate((np.concatenate((y_train, y_train_rot)),y_train_trans))\n",
    "    y_train_temp_2 = np.concatenate((np.concatenate((y_train_bright, y_train_rot_bright)),y_train_trans_bright))\n",
    "    y_train_temp = np.concatenate((y_train_temp,y_train_temp_2))\n",
    "    hist_train_super,bins_train,_= plt.hist(y_train_temp, bins=n_classes, rwidth =0.7)\n",
    "    plt.grid(True)\n",
    "    plt.show()\n",
    "    print(hist_train_super)\n",
    "else:\n",
    "    print(\"Not necesary in READ_SAVED_DATA mode\")"
   ]
  },
  {
   "cell_type": "markdown",
   "metadata": {},
   "source": [
    "### Concatenating all the matrices"
   ]
  },
  {
   "cell_type": "code",
   "execution_count": 17,
   "metadata": {},
   "outputs": [
    {
     "name": "stdout",
     "output_type": "stream",
     "text": [
      "Not necesary in READ_SAVED_DATA mode\n"
     ]
    }
   ],
   "source": [
    "if READ_SAVED_DATA != 1:\n",
    "    \n",
    "    X_train_gry=np.concatenate((X_train_gry,X_train_gry_rot))\n",
    "    X_train_gry=np.concatenate((X_train_gry,X_train_gry_trans))\n",
    "    X_train_gry=np.concatenate((X_train_gry,X_train_gry_bright))\n",
    "    X_train_gry=np.concatenate((X_train_gry,X_train_gry_rot_bright))\n",
    "    X_train_gry=np.concatenate((X_train_gry,X_train_gry_trans_bright))\n",
    "\n",
    "    y_train=np.concatenate((y_train,y_train_rot))\n",
    "    y_train=np.concatenate((y_train,y_train_trans))\n",
    "    y_train=np.concatenate((y_train,y_train_bright))\n",
    "    y_train=np.concatenate((y_train,y_train_rot_bright))\n",
    "    y_train=np.concatenate((y_train,y_train_trans_bright))\n",
    "\n",
    "    print(X_train_gry.shape, y_train.shape)\n",
    "else:\n",
    "    print(\"Not necesary in READ_SAVED_DATA mode\")"
   ]
  },
  {
   "cell_type": "code",
   "execution_count": 18,
   "metadata": {},
   "outputs": [
    {
     "data": {
      "image/png": "[encoded data removed]",
      "text/plain": [
       "<Figure size 432x288 with 1 Axes>"
      ]
     },
     "metadata": {
      "needs_background": "light"
     },
     "output_type": "display_data"
    },
    {
     "name": "stdout",
     "output_type": "stream",
     "text": [
      "[1080. 1980. 2010. 1260. 1770. 1650. 1080. 1290. 1260. 1320. 1800. 1170.\n",
      " 1890. 1920. 1080. 1080. 1080. 1080. 1080. 1080. 1080. 1080. 1080. 1080.\n",
      " 1080. 1350. 1080. 1080. 1080. 1080. 1080. 1080. 1080. 1080. 1080. 1080.\n",
      " 1080. 1080. 1860. 1080. 1080. 1080. 1080.]\n"
     ]
    }
   ],
   "source": [
    "# histogram of label frequency for training images\n",
    "hist_train,bins_train,_=plt.hist(y_train, bins=n_classes, rwidth =0.7)\n",
    "plt.grid(True)\n",
    "plt.show()\n",
    "print(hist_train)"
   ]
  },
  {
   "cell_type": "markdown",
   "metadata": {},
   "source": [
    "----\n",
    "\n",
    "## Step 2: Design and Test a Model Architecture\n",
    "\n",
    "Design and implement a deep learning model that learns to recognize traffic signs. Train and test your model on the [German Traffic Sign Dataset](http://benchmark.ini.rub.de/?section=gtsrb&subsection=dataset).\n",
    "\n",
    "The LeNet-5 implementation shown in the [classroom](https://classroom.udacity.com/nanodegrees/nd013/parts/fbf77062-5703-404e-b60c-95b78b2f3f9e/modules/6df7ae49-c61c-4bb2-a23e-6527e69209ec/lessons/601ae704-1035-4287-8b11-e2c2716217ad/concepts/d4aca031-508f-4e0b-b493-e7b706120f81) at the end of the CNN lesson is a solid starting point. You'll have to change the number of classes and possibly the preprocessing, but aside from that it's plug and play! \n",
    "\n",
    "With the LeNet-5 solution from the lecture, you should expect a validation set accuracy of about 0.89. To meet specifications, the validation set accuracy will need to be at least 0.93. It is possible to get an even higher accuracy, but 0.93 is the minimum for a successful project submission. \n",
    "\n",
    "There are various aspects to consider when thinking about this problem:\n",
    "\n",
    "- Neural network architecture (is the network over or underfitting?)\n",
    "- Play around preprocessing techniques (normalization, rgb to grayscale, etc)\n",
    "- Number of examples per label (some have more than others).\n",
    "- Generate fake data.\n",
    "\n",
    "Here is an example of a [published baseline model on this problem](http://yann.lecun.com/exdb/publis/pdf/sermanet-ijcnn-11.pdf). It's not required to be familiar with the approach used in the paper but, it's good practice to try to read papers like these."
   ]
  },
  {
   "cell_type": "markdown",
   "metadata": {},
   "source": [
    "### Pre-process the Data Set (normalization, grayscale, etc.)"
   ]
  },
  {
   "cell_type": "markdown",
   "metadata": {},
   "source": [
    "Minimally, the image data should be normalized so that the data has mean zero and equal variance. For image data, `(pixel - 128)/ 128` is a quick way to approximately normalize the data and can be used in this project. \n",
    "\n",
    "Other pre-processing steps are optional. You can try different techniques to see if it improves performance. \n",
    "\n",
    "Use the code cell (or multiple code cells, if necessary) to implement the first step of your project."
   ]
  },
  {
   "cell_type": "markdown",
   "metadata": {},
   "source": [
    "### Normalize Data"
   ]
  },
  {
   "cell_type": "code",
   "execution_count": 19,
   "metadata": {},
   "outputs": [],
   "source": [
    "### Preprocess the data here. It is required to normalize the data. Other preprocessing steps could include \n",
    "### converting to grayscale, etc.\n",
    "### Feel free to use as many code cells as needed.\n",
    "def normalize(x):\n",
    "    return (x.astype(float) - 128) / 128\n",
    "\n",
    "#X_train_normalized = normalize(X_train)\n",
    "X_valid_normalized = normalize(X_valid_gry)\n",
    "X_test_normalized = normalize(X_test_gry)\n",
    "#print(X_train[index][0][0])\n",
    "#print(X_train_normalized[index][0][0])"
   ]
  },
  {
   "cell_type": "markdown",
   "metadata": {},
   "source": [
    "### Model Architecture"
   ]
  },
  {
   "cell_type": "markdown",
   "metadata": {},
   "source": [
    "## Setup TensorFlow\n",
    "The `EPOCH` and `BATCH_SIZE` values affect the training speed and model accuracy.\n",
    "\n",
    "You do not need to modify this section."
   ]
  },
  {
   "cell_type": "code",
   "execution_count": 20,
   "metadata": {
    "scrolled": false
   },
   "outputs": [],
   "source": [
    "import tensorflow as tf\n",
    "\n",
    "EPOCHS = 100\n",
    "BATCH_SIZE = 100"
   ]
  },
  {
   "cell_type": "markdown",
   "metadata": {},
   "source": [
    "### Input\n",
    "The LeNet architecture accepts a 32x32xC image as input, where C is the number of color channels. \n",
    "\n",
    "### Architecture\n",
    "**Layer 1: Convolutional.** The output shape should be 28x28x6.\n",
    "\n",
    "**Activation.** Your choice of activation function.\n",
    "\n",
    "**Pooling.** The output shape should be 14x14x6.\n",
    "\n",
    "**Layer 2: Convolutional.** The output shape should be 10x10x16.\n",
    "\n",
    "**Activation.** Your choice of activation function.\n",
    "\n",
    "**Pooling.** The output shape should be 5x5x16.\n",
    "\n",
    "**Flatten.** Flatten the output shape of the final pooling layer such that it's 1D instead of 3D. The easiest way to do is by using `tf.contrib.layers.flatten`, which is already imported for you.\n",
    "\n",
    "**Layer 3: Fully Connected.** This should have 120 outputs.\n",
    "\n",
    "**Activation.** Your choice of activation function.\n",
    "\n",
    "**Layer 4: Fully Connected.** This should have 84 outputs.\n",
    "\n",
    "**Activation.** Your choice of activation function.\n",
    "\n",
    "**Layer 5: Fully Connected (Logits).** This should have 10 outputs.\n",
    "\n",
    "### Output\n",
    "Return the result of the 2nd fully connected layer."
   ]
  },
  {
   "cell_type": "code",
   "execution_count": 21,
   "metadata": {},
   "outputs": [],
   "source": [
    "### Define your architecture here.\n",
    "\n",
    "from tensorflow.contrib.layers import flatten\n",
    "\n",
    "def network_arquitecture(x):    \n",
    "    # Arguments used for tf.truncated_normal, randomly defines variables for the weights and biases for each layer\n",
    "    mu = 0\n",
    "    sigma = 0.1\n",
    "    \n",
    "    # TODO: Layer 1: Convolutional. Input = 32x32x1. Output = 28x28x6.\n",
    "    conv_w1 = tf.Variable(tf.truncated_normal(shape=(5,5,1,6),mean=mu,stddev=sigma))\n",
    "    conv_b1 = tf.Variable(tf.zeros(6))\n",
    "    layer1_output = tf.nn.conv2d(x,filter=conv_w1,strides=[1,1,1,1],padding='VALID')\n",
    "    layer1_output = layer1_output + conv_b1\n",
    "\n",
    "    # TODO: Activation.\n",
    "    layer1_output = tf.nn.relu(layer1_output)\n",
    "\n",
    "    # TODO: Pooling. Input = 28x28x6. Output = 14x14x6.\n",
    "    layer1_output = tf.nn.max_pool (layer1_output,ksize=[1,2,2,1],strides=[1,2,2,1],padding='VALID')\n",
    "\n",
    "    # TODO: Layer 2: Convolutional. Output = 10x10x16.\n",
    "    conv_w2 = tf.Variable(tf.truncated_normal(shape=(5,5,6,16),mean=mu,stddev=sigma))\n",
    "    conv_b2 = tf.Variable(tf.zeros(16))\n",
    "    layer2_output = tf.nn.conv2d(layer1_output,filter=conv_w2,strides=[1,1,1,1],padding='VALID')\n",
    "    layer2_output = layer2_output + conv_b2\n",
    "    \n",
    "    # TODO: Activation.\n",
    "    layer2_output = tf.nn.relu(layer2_output)\n",
    "\n",
    "    # TODO: Pooling. Input = 10x10x16. Output = 5x5x16.\n",
    "    layer2_output = tf.nn.max_pool (layer2_output,ksize=[1,2,2,1],strides=[1,2,2,1],padding='VALID')\n",
    "\n",
    "    # TODO: Flatten. Input = 5x5x16. Output = 400.\n",
    "    layer2_output = flatten (layer2_output)\n",
    "    \n",
    "    # TODO: Layer 3: Fully Connected. Input = 400. Output = 120.\n",
    "    fc_W1 = tf.Variable(tf.truncated_normal(shape=(400, 120), mean = mu, stddev = sigma))\n",
    "    fc_b1 = tf.Variable(tf.zeros(120))\n",
    "    layer3_output = tf.matmul(layer2_output,fc_W1)\n",
    "    layer3_output = layer3_output + fc_b1\n",
    "    \n",
    "    # TODO: Activation.\n",
    "    layer3_output = tf.nn.relu(layer3_output)\n",
    "    \n",
    "    # Dropout\n",
    "    layer3_output = tf.nn.dropout(layer3_output, keep_prob)\n",
    "\n",
    "    # TODO: Layer 4: Fully Connected. Input = 120. Output = 84.\n",
    "    fc_W2 = tf.Variable(tf.truncated_normal(shape=(120, 84), mean = mu, stddev = sigma))\n",
    "    fc_b2 = tf.Variable(tf.zeros(84))\n",
    "    layer4_output = tf.matmul(layer3_output,fc_W2)\n",
    "    layer4_output = tf.nn.bias_add(layer4_output, fc_b2)\n",
    "    \n",
    "    # TODO: Activation.\n",
    "    layer4_output = tf.nn.relu(layer4_output)\n",
    "    \n",
    "    # Dropout\n",
    "    layer4_output = tf.nn.dropout(layer4_output, keep_prob)\n",
    "\n",
    "    # TODO: Layer 5: Fully Connected. Input = 84. Output = 43.\n",
    "    fc_W3 = tf.Variable(tf.truncated_normal(shape=(84, n_classes), mean = mu, stddev = sigma))\n",
    "    fc_b3 = tf.Variable(tf.zeros(n_classes))\n",
    "    layer5_output = tf.matmul(layer4_output,fc_W3)\n",
    "    logits = tf.nn.bias_add(layer5_output, fc_b3)\n",
    "    \n",
    "    return logits"
   ]
  },
  {
   "cell_type": "code",
   "execution_count": 22,
   "metadata": {},
   "outputs": [],
   "source": [
    "### Define your architecture here.\n",
    "\n",
    "from tensorflow.contrib.layers import flatten\n",
    "\n",
    "def network_arquitecture_2(x):    \n",
    "    # Hyperparameters\n",
    "    mu = 0\n",
    "    sigma = 0.1\n",
    "    \n",
    "    # TODO: Layer 1: Convolutional. Input = 32x32x1. Output = 28x28x6.\n",
    "    W1 = tf.Variable(tf.truncated_normal(shape=(5, 5, 1, 6), mean = mu, stddev = sigma), name=\"W1\")\n",
    "    x = tf.nn.conv2d(x, W1, strides=[1, 1, 1, 1], padding='VALID')\n",
    "    b1 = tf.Variable(tf.zeros(6), name=\"b1\")\n",
    "    x = tf.nn.bias_add(x, b1)\n",
    "    print(\"layer 1 shape:\",x.get_shape())\n",
    "\n",
    "    # TODO: Activation.\n",
    "    x = tf.nn.relu(x)\n",
    "    \n",
    "    # TODO: Pooling. Input = 28x28x6. Output = 14x14x6.\n",
    "    x = tf.nn.max_pool(x, ksize=[1, 2, 2, 1], strides=[1, 2, 2, 1], padding='VALID')\n",
    "    layer1 = x\n",
    "    \n",
    "    # TODO: Layer 2: Convolutional. Output = 10x10x16.\n",
    "    W2 = tf.Variable(tf.truncated_normal(shape=(5, 5, 6, 16), mean = mu, stddev = sigma), name=\"W2\")\n",
    "    x = tf.nn.conv2d(x, W2, strides=[1, 1, 1, 1], padding='VALID')\n",
    "    b2 = tf.Variable(tf.zeros(16), name=\"b2\")\n",
    "    x = tf.nn.bias_add(x, b2)\n",
    "                     \n",
    "    # TODO: Activation.\n",
    "    x = tf.nn.relu(x)\n",
    "\n",
    "    # TODO: Pooling. Input = 10x10x16. Output = 5x5x16.\n",
    "    x = tf.nn.max_pool(x, ksize=[1, 2, 2, 1], strides=[1, 2, 2, 1], padding='VALID')\n",
    "    layer2 = x\n",
    "    \n",
    "    # TODO: Layer 3: Convolutional. Output = 1x1x400.\n",
    "    W3 = tf.Variable(tf.truncated_normal(shape=(5, 5, 16, 400), mean = mu, stddev = sigma), name=\"W3\")\n",
    "    x = tf.nn.conv2d(x, W3, strides=[1, 1, 1, 1], padding='VALID')\n",
    "    b3 = tf.Variable(tf.zeros(400), name=\"b3\")\n",
    "    x = tf.nn.bias_add(x, b3)\n",
    "                     \n",
    "    # TODO: Activation.\n",
    "    x = tf.nn.relu(x)\n",
    "    layer3 = x\n",
    "\n",
    "    # TODO: Flatten. Input = 5x5x16. Output = 400.\n",
    "    layer2flat = flatten(layer2)\n",
    "    print(\"layer2flat shape:\",layer2flat.get_shape())\n",
    "    \n",
    "    # Flatten x. Input = 1x1x400. Output = 400.\n",
    "    xflat = flatten(x)\n",
    "    print(\"xflat shape:\",xflat.get_shape())\n",
    "    \n",
    "    # Concat layer2flat and x. Input = 400 + 400. Output = 800\n",
    "    x = tf.concat([xflat, layer2flat], 1)\n",
    "    print(\"x shape:\",x.get_shape())\n",
    "    \n",
    "    # Dropout\n",
    "    #x = tf.nn.dropout(x, keep_prob)\n",
    "    \n",
    "    # TODO: Layer 4: Fully Connected. Input = 800. Output = 43.\n",
    "    W4 = tf.Variable(tf.truncated_normal(shape=(800, 43), mean = mu, stddev = sigma), name=\"W4\")\n",
    "    b4 = tf.Variable(tf.zeros(43), name=\"b4\")    \n",
    "    logits = tf.add(tf.matmul(x, W4), b4)\n",
    "    \n",
    "    # Create a Network param dict for visualization\n",
    "    network_params = {\n",
    "        \"layer1\": layer1,\n",
    "        \"layer2\": layer2,\n",
    "        \"layer3\": layer3,\n",
    "        \"layer2flat\": layer2flat,\n",
    "        \"xflat\": xflat,\n",
    "        \"x\": x,\n",
    "        \"logits\": logits\n",
    "    }\n",
    "    \n",
    "    return logits, network_params"
   ]
  },
  {
   "cell_type": "markdown",
   "metadata": {},
   "source": [
    "### Train, Validate and Test the Model"
   ]
  },
  {
   "cell_type": "markdown",
   "metadata": {},
   "source": [
    "A validation set can be used to assess how well the model is performing. A low accuracy on the training and validation\n",
    "sets imply underfitting. A high accuracy on the training set but low accuracy on the validation set implies overfitting."
   ]
  },
  {
   "cell_type": "markdown",
   "metadata": {},
   "source": [
    "## Trainning"
   ]
  },
  {
   "cell_type": "markdown",
   "metadata": {},
   "source": [
    "## Features and Labels\n",
    "\n",
    "`x` is a placeholder for a batch of input images.\n",
    "`y` is a placeholder for a batch of output labels."
   ]
  },
  {
   "cell_type": "code",
   "execution_count": 23,
   "metadata": {},
   "outputs": [],
   "source": [
    "x = tf.placeholder(tf.float32, (None, 32, 32, 1))\n",
    "y = tf.placeholder(tf.int32, (None))\n",
    "keep_prob = tf.placeholder(tf.float32) # probability to keep units\n",
    "one_hot_y = tf.one_hot(y,n_classes)"
   ]
  },
  {
   "cell_type": "markdown",
   "metadata": {},
   "source": [
    "## Training Pipeline\n",
    "Create a training pipeline that uses the model to classify traffic signals."
   ]
  },
  {
   "cell_type": "code",
   "execution_count": 24,
   "metadata": {},
   "outputs": [
    {
     "name": "stdout",
     "output_type": "stream",
     "text": [
      "layer 1 shape: (?, 28, 28, 6)\n",
      "layer2flat shape: (?, 400)\n",
      "xflat shape: (?, 400)\n",
      "x shape: (?, 800)\n"
     ]
    }
   ],
   "source": [
    "rate = 0.0009\n",
    "\n",
    "logits, NETWORK_PARAMS = network_arquitecture_2(x)\n",
    "cross_entropy = tf.nn.softmax_cross_entropy_with_logits_v2(labels=one_hot_y, logits=logits)\n",
    "loss_operation = tf.reduce_mean(cross_entropy)\n",
    "optimizer = tf.train.AdamOptimizer(learning_rate = rate)\n",
    "training_operation = optimizer.minimize(loss_operation)"
   ]
  },
  {
   "cell_type": "markdown",
   "metadata": {},
   "source": [
    "## Model Evaluation\n",
    "Evaluate how well the loss and accuracy of the model for a given dataset."
   ]
  },
  {
   "cell_type": "code",
   "execution_count": 25,
   "metadata": {},
   "outputs": [],
   "source": [
    "correct_prediction = tf.equal(tf.argmax(logits, 1), tf.argmax(one_hot_y, 1))\n",
    "accuracy_operation = tf.reduce_mean(tf.cast(correct_prediction, tf.float32))\n",
    "saver = tf.train.Saver()\n",
    "\n",
    "def evaluate(X_data, y_data):\n",
    "    num_examples = len(X_data)\n",
    "    total_accuracy = 0\n",
    "    sess = tf.get_default_session()\n",
    "    for offset in range(0, num_examples, BATCH_SIZE):\n",
    "        batch_x, batch_y = X_data[offset:offset+BATCH_SIZE], y_data[offset:offset+BATCH_SIZE]\n",
    "        accuracy = sess.run(accuracy_operation, feed_dict={x: batch_x, y: batch_y, keep_prob: 1.0})\n",
    "        total_accuracy += (accuracy * len(batch_x))\n",
    "    return total_accuracy / num_examples"
   ]
  },
  {
   "cell_type": "markdown",
   "metadata": {},
   "source": [
    "## Train the Model\n",
    "Run the training data through the training pipeline to train the model.\n",
    "\n",
    "Before each epoch, shuffle the training set.\n",
    "\n",
    "After each epoch, measure the loss and accuracy of the validation set.\n",
    "\n",
    "Save the model after training."
   ]
  },
  {
   "cell_type": "code",
   "execution_count": 26,
   "metadata": {},
   "outputs": [
    {
     "name": "stdout",
     "output_type": "stream",
     "text": [
      "Training...\n",
      "\n",
      "EPOCH 1 ...\n",
      "Validation Accuracy = 0.840\n",
      "\n",
      "EPOCH 2 ...\n",
      "Validation Accuracy = 0.883\n",
      "\n",
      "EPOCH 3 ...\n",
      "Validation Accuracy = 0.873\n",
      "\n",
      "EPOCH 4 ...\n",
      "Validation Accuracy = 0.899\n",
      "\n",
      "EPOCH 5 ...\n",
      "Validation Accuracy = 0.904\n",
      "\n",
      "EPOCH 6 ...\n",
      "Validation Accuracy = 0.892\n",
      "\n",
      "EPOCH 7 ...\n",
      "Validation Accuracy = 0.917\n",
      "\n",
      "EPOCH 8 ...\n",
      "Validation Accuracy = 0.913\n",
      "\n",
      "EPOCH 9 ...\n",
      "Validation Accuracy = 0.910\n",
      "\n",
      "EPOCH 10 ...\n",
      "Validation Accuracy = 0.923\n",
      "\n",
      "EPOCH 11 ...\n",
      "Validation Accuracy = 0.920\n",
      "\n",
      "EPOCH 12 ...\n",
      "Validation Accuracy = 0.917\n",
      "\n",
      "EPOCH 13 ...\n",
      "Validation Accuracy = 0.895\n",
      "\n",
      "EPOCH 14 ...\n",
      "Validation Accuracy = 0.898\n",
      "\n",
      "EPOCH 15 ...\n",
      "Validation Accuracy = 0.920\n",
      "\n",
      "EPOCH 16 ...\n",
      "Validation Accuracy = 0.912\n",
      "\n",
      "EPOCH 17 ...\n",
      "Validation Accuracy = 0.929\n",
      "\n",
      "EPOCH 18 ...\n",
      "Validation Accuracy = 0.928\n",
      "\n",
      "EPOCH 19 ...\n",
      "Validation Accuracy = 0.916\n",
      "\n",
      "EPOCH 20 ...\n",
      "Validation Accuracy = 0.918\n",
      "\n",
      "EPOCH 21 ...\n",
      "Validation Accuracy = 0.936\n",
      "\n",
      "EPOCH 22 ...\n",
      "Validation Accuracy = 0.942\n",
      "\n",
      "EPOCH 23 ...\n",
      "Validation Accuracy = 0.937\n",
      "\n",
      "EPOCH 24 ...\n",
      "Validation Accuracy = 0.931\n",
      "\n",
      "EPOCH 25 ...\n",
      "Validation Accuracy = 0.932\n",
      "\n",
      "EPOCH 26 ...\n",
      "Validation Accuracy = 0.933\n",
      "\n",
      "EPOCH 27 ...\n",
      "Validation Accuracy = 0.929\n",
      "\n",
      "EPOCH 28 ...\n",
      "Validation Accuracy = 0.942\n",
      "\n",
      "EPOCH 29 ...\n",
      "Validation Accuracy = 0.935\n",
      "\n",
      "EPOCH 30 ...\n",
      "Validation Accuracy = 0.932\n",
      "\n",
      "EPOCH 31 ...\n",
      "Validation Accuracy = 0.941\n",
      "\n",
      "EPOCH 32 ...\n",
      "Validation Accuracy = 0.936\n",
      "\n",
      "EPOCH 33 ...\n",
      "Validation Accuracy = 0.938\n",
      "\n",
      "EPOCH 34 ...\n",
      "Validation Accuracy = 0.932\n",
      "\n",
      "EPOCH 35 ...\n",
      "Validation Accuracy = 0.928\n",
      "\n",
      "EPOCH 36 ...\n",
      "Validation Accuracy = 0.935\n",
      "\n",
      "EPOCH 37 ...\n",
      "Validation Accuracy = 0.939\n",
      "\n",
      "EPOCH 38 ...\n",
      "Validation Accuracy = 0.939\n",
      "\n",
      "EPOCH 39 ...\n",
      "Validation Accuracy = 0.940\n",
      "\n",
      "EPOCH 40 ...\n",
      "Validation Accuracy = 0.933\n",
      "\n",
      "EPOCH 41 ...\n",
      "Validation Accuracy = 0.941\n",
      "\n",
      "EPOCH 42 ...\n",
      "Validation Accuracy = 0.941\n",
      "\n",
      "EPOCH 43 ...\n",
      "Validation Accuracy = 0.934\n",
      "\n",
      "EPOCH 44 ...\n",
      "Validation Accuracy = 0.944\n",
      "\n",
      "EPOCH 45 ...\n",
      "Validation Accuracy = 0.942\n",
      "\n",
      "EPOCH 46 ...\n",
      "Validation Accuracy = 0.945\n",
      "\n",
      "EPOCH 47 ...\n",
      "Validation Accuracy = 0.943\n",
      "\n",
      "EPOCH 48 ...\n",
      "Validation Accuracy = 0.918\n",
      "\n",
      "EPOCH 49 ...\n",
      "Validation Accuracy = 0.944\n",
      "\n",
      "EPOCH 50 ...\n",
      "Validation Accuracy = 0.943\n",
      "\n",
      "EPOCH 51 ...\n",
      "Validation Accuracy = 0.942\n",
      "\n",
      "EPOCH 52 ...\n",
      "Validation Accuracy = 0.942\n",
      "\n",
      "EPOCH 53 ...\n",
      "Validation Accuracy = 0.941\n",
      "\n",
      "EPOCH 54 ...\n",
      "Validation Accuracy = 0.939\n",
      "\n",
      "EPOCH 55 ...\n",
      "Validation Accuracy = 0.938\n",
      "\n",
      "EPOCH 56 ...\n",
      "Validation Accuracy = 0.935\n",
      "\n",
      "EPOCH 57 ...\n",
      "Validation Accuracy = 0.944\n",
      "\n",
      "EPOCH 58 ...\n",
      "Validation Accuracy = 0.939\n",
      "\n",
      "EPOCH 59 ...\n",
      "Validation Accuracy = 0.941\n",
      "\n",
      "EPOCH 60 ...\n",
      "Validation Accuracy = 0.940\n",
      "\n",
      "EPOCH 61 ...\n",
      "Validation Accuracy = 0.944\n",
      "\n",
      "EPOCH 62 ...\n",
      "Validation Accuracy = 0.939\n",
      "\n",
      "EPOCH 63 ...\n",
      "Validation Accuracy = 0.947\n",
      "\n",
      "EPOCH 64 ...\n",
      "Validation Accuracy = 0.941\n",
      "\n",
      "EPOCH 65 ...\n",
      "Validation Accuracy = 0.946\n",
      "\n",
      "EPOCH 66 ...\n",
      "Validation Accuracy = 0.939\n",
      "\n",
      "EPOCH 67 ...\n",
      "Validation Accuracy = 0.928\n",
      "\n",
      "EPOCH 68 ...\n",
      "Validation Accuracy = 0.945\n",
      "\n",
      "EPOCH 69 ...\n",
      "Validation Accuracy = 0.949\n",
      "\n",
      "EPOCH 70 ...\n",
      "Validation Accuracy = 0.946\n",
      "\n",
      "EPOCH 71 ...\n",
      "Validation Accuracy = 0.943\n",
      "\n",
      "EPOCH 72 ...\n",
      "Validation Accuracy = 0.943\n",
      "\n",
      "EPOCH 73 ...\n",
      "Validation Accuracy = 0.944\n",
      "\n",
      "EPOCH 74 ...\n",
      "Validation Accuracy = 0.943\n",
      "\n",
      "EPOCH 75 ...\n",
      "Validation Accuracy = 0.945\n",
      "\n",
      "EPOCH 76 ...\n",
      "Validation Accuracy = 0.946\n",
      "\n",
      "EPOCH 77 ...\n",
      "Validation Accuracy = 0.947\n",
      "\n",
      "EPOCH 78 ...\n",
      "Validation Accuracy = 0.940\n",
      "\n",
      "EPOCH 79 ...\n",
      "Validation Accuracy = 0.939\n",
      "\n",
      "EPOCH 80 ...\n",
      "Validation Accuracy = 0.940\n",
      "\n",
      "EPOCH 81 ...\n",
      "Validation Accuracy = 0.940\n",
      "\n",
      "EPOCH 82 ...\n",
      "Validation Accuracy = 0.940\n",
      "\n",
      "EPOCH 83 ...\n",
      "Validation Accuracy = 0.943\n",
      "\n",
      "EPOCH 84 ...\n",
      "Validation Accuracy = 0.945\n",
      "\n",
      "EPOCH 85 ...\n",
      "Validation Accuracy = 0.941\n",
      "\n",
      "EPOCH 86 ...\n",
      "Validation Accuracy = 0.950\n",
      "\n",
      "EPOCH 87 ...\n",
      "Validation Accuracy = 0.947\n",
      "\n",
      "EPOCH 88 ...\n",
      "Validation Accuracy = 0.933\n",
      "\n",
      "EPOCH 89 ...\n",
      "Validation Accuracy = 0.945\n",
      "\n",
      "EPOCH 90 ...\n",
      "Validation Accuracy = 0.947\n",
      "\n",
      "EPOCH 91 ...\n",
      "Validation Accuracy = 0.949\n",
      "\n",
      "EPOCH 92 ...\n",
      "Validation Accuracy = 0.933\n",
      "\n",
      "EPOCH 93 ...\n",
      "Validation Accuracy = 0.927\n",
      "\n",
      "EPOCH 94 ...\n",
      "Validation Accuracy = 0.949\n",
      "\n",
      "EPOCH 95 ...\n",
      "Validation Accuracy = 0.943\n",
      "\n",
      "EPOCH 96 ...\n",
      "Validation Accuracy = 0.937\n",
      "\n",
      "EPOCH 97 ...\n",
      "Validation Accuracy = 0.938\n",
      "\n",
      "EPOCH 98 ...\n",
      "Validation Accuracy = 0.937\n",
      "\n",
      "EPOCH 99 ...\n",
      "Validation Accuracy = 0.936\n",
      "\n",
      "EPOCH 100 ...\n",
      "Validation Accuracy = 0.934\n",
      "\n",
      "Model saved\n"
     ]
    }
   ],
   "source": [
    "with tf.Session() as sess:\n",
    "    sess.run(tf.global_variables_initializer())\n",
    "    num_examples = len(X_train_gry)\n",
    "    \n",
    "    print(\"Training...\")\n",
    "    print()\n",
    "    for i in range(EPOCHS):\n",
    "        X_train_gry, y_train = shuffle(X_train_gry, y_train)\n",
    "        for offset in range(0, num_examples, BATCH_SIZE):\n",
    "            end = offset + BATCH_SIZE\n",
    "            batch_x, batch_y = X_train_gry[offset:end], y_train[offset:end]\n",
    "            batch_x = normalize(batch_x)\n",
    "            sess.run(training_operation, feed_dict={x: batch_x, y: batch_y, keep_prob: 0.5})\n",
    "            \n",
    "        validation_accuracy = evaluate(X_valid_normalized, y_valid)\n",
    "        print(\"EPOCH {} ...\".format(i+1))\n",
    "        print(\"Validation Accuracy = {:.3f}\".format(validation_accuracy))\n",
    "        print()\n",
    "        \n",
    "    saver.save(sess, './lenet')\n",
    "    print(\"Model saved\")"
   ]
  },
  {
   "cell_type": "markdown",
   "metadata": {},
   "source": [
    "## Evaluate the Model\n",
    "Once you are completely satisfied with your model, evaluate the performance of the model on the test set.\n",
    "\n",
    "Be sure to only do this once!\n",
    "\n",
    "If you were to measure the performance of your trained model on the test set, then improve your model, and then measure the performance of your model on the test set again, that would invalidate your test results. You wouldn't get a true measure of how well your model would perform against real data."
   ]
  },
  {
   "cell_type": "code",
   "execution_count": 27,
   "metadata": {},
   "outputs": [
    {
     "name": "stdout",
     "output_type": "stream",
     "text": [
      "INFO:tensorflow:Restoring parameters from ./lenet\n",
      "Test Accuracy = 0.925\n"
     ]
    }
   ],
   "source": [
    "with tf.Session() as sess:\n",
    "    saver.restore(sess, tf.train.latest_checkpoint('.'))\n",
    "\n",
    "    test_accuracy = evaluate(X_test_normalized, y_test)\n",
    "    print(\"Test Accuracy = {:.3f}\".format(test_accuracy))"
   ]
  },
  {
   "cell_type": "markdown",
   "metadata": {},
   "source": [
    "## Saving Data"
   ]
  },
  {
   "cell_type": "code",
   "execution_count": 28,
   "metadata": {},
   "outputs": [
    {
     "name": "stdout",
     "output_type": "stream",
     "text": [
      "done\n"
     ]
    }
   ],
   "source": [
    "save_train = {'features': X_train_gry,\n",
    "             'labels': y_train}\n",
    "\n",
    "pickle.dump(save_train, open( \"./traffic-signs-data/save_train.p\", \"wb\" ) )\n",
    "\n",
    "print('done')"
   ]
  },
  {
   "cell_type": "code",
   "execution_count": 29,
   "metadata": {},
   "outputs": [
    {
     "name": "stdout",
     "output_type": "stream",
     "text": [
      "X_train shape: (53850, 32, 32, 1)\n",
      "y_train shape: (53850,)\n"
     ]
    },
    {
     "data": {
      "image/png": "[encoded data removed]",
      "text/plain": [
       "<Figure size 432x288 with 1 Axes>"
      ]
     },
     "metadata": {
      "needs_background": "light"
     },
     "output_type": "display_data"
    }
   ],
   "source": [
    "# Load pickled data\n",
    "import pickle\n",
    "\n",
    "training_file =  \"./traffic-signs-data/save_train.p\"\n",
    "\n",
    "with open(training_file, mode='rb') as f:\n",
    "    save_train = pickle.load(f)\n",
    "    \n",
    "X_train, y_train = save_train['features'], save_train['labels']\n",
    "\n",
    "print(\"X_train shape:\", X_train.shape)\n",
    "print(\"y_train shape:\", y_train.shape)\n",
    "\n",
    "# histogram of label frequency for training images\n",
    "hist_train,bins_train,_=plt.hist(y_train, bins=n_classes, rwidth =0.7)\n",
    "plt.grid(True)\n",
    "plt.show()"
   ]
  },
  {
   "cell_type": "markdown",
   "metadata": {},
   "source": [
    "---\n",
    "\n",
    "## Step 3: Test a Model on New Images\n",
    "\n",
    "To give yourself more insight into how your model is working, download at least five pictures of German traffic signs from the web and use your model to predict the traffic sign type.\n",
    "\n",
    "You may find `signnames.csv` useful as it contains mappings from the class id (integer) to the actual sign name."
   ]
  },
  {
   "cell_type": "markdown",
   "metadata": {},
   "source": [
    "### Load and Output the Images"
   ]
  },
  {
   "cell_type": "code",
   "execution_count": 30,
   "metadata": {},
   "outputs": [
    {
     "name": "stdout",
     "output_type": "stream",
     "text": [
      "X_test shape: (9, 32, 32, 3)\n",
      "y_test shape: (9,)\n",
      "X_test shape gray: (9, 32, 32, 3)\n",
      "13\n"
     ]
    },
    {
     "data": {
      "image/png": "[encoded data removed]",
      "text/plain": [
       "<Figure size 432x288 with 1 Axes>"
      ]
     },
     "metadata": {
      "needs_background": "light"
     },
     "output_type": "display_data"
    }
   ],
   "source": [
    "### Load the images and plot them here.\n",
    "testing_file = \"new_test_images/new_test_images.p\"\n",
    "\n",
    "with open(testing_file, mode='rb') as f:\n",
    "    new_test_images = pickle.load(f)\n",
    "    \n",
    "X_new_test, y_new_test = new_test_images['features'], new_test_images['labels']\n",
    "\n",
    "print(\"X_test shape:\", X_new_test.shape)\n",
    "print(\"y_test shape:\", y_new_test.shape)\n",
    "\n",
    "#grayscale\n",
    "X_new_test_gray = np.sum(X_new_test/3, axis=3, keepdims=True)\n",
    "print(\"X_test shape gray:\", X_new_test.shape)\n",
    "\n",
    "#normailize images\n",
    "X_new_test_normalize = normalize(X_new_test_gray)\n",
    "\n",
    "i_c = 8\n",
    "plt.imshow(X_new_test_gray[i_c].squeeze(),cmap='gray')\n",
    "print(y_new_test[i_c])\n"
   ]
  },
  {
   "cell_type": "markdown",
   "metadata": {},
   "source": [
    "### Predict the Sign Type for Each Image"
   ]
  },
  {
   "cell_type": "code",
   "execution_count": 31,
   "metadata": {},
   "outputs": [
    {
     "name": "stdout",
     "output_type": "stream",
     "text": [
      "INFO:tensorflow:Restoring parameters from ./lenet\n",
      "Test Accuracy = 0.778\n"
     ]
    }
   ],
   "source": [
    "### Run the predictions here and use the model to output the prediction for each image.\n",
    "with tf.Session() as sess:\n",
    "    sess.run(tf.global_variables_initializer())\n",
    "    saver.restore(sess, \"./lenet\")\n",
    "    test_accuracy = evaluate(X_new_test_normalize, y_new_test)\n",
    "    print(\"Test Accuracy = {:.3f}\".format(test_accuracy))"
   ]
  },
  {
   "cell_type": "markdown",
   "metadata": {},
   "source": [
    "### Analyze Performance"
   ]
  },
  {
   "cell_type": "code",
   "execution_count": 32,
   "metadata": {},
   "outputs": [
    {
     "name": "stdout",
     "output_type": "stream",
     "text": [
      "Test Accuracy percentage = 77.78 %\n"
     ]
    }
   ],
   "source": [
    "### Calculate the accuracy for these 5 new images. \n",
    "### For example, if the model predicted 1 out of 5 signs correctly, it's 20% accurate on these new images.\n",
    "print(\"Test Accuracy percentage = {:.2f} %\".format(test_accuracy*100))"
   ]
  },
  {
   "cell_type": "markdown",
   "metadata": {},
   "source": [
    "### Output Top 5 Softmax Probabilities For Each Image Found on the Web"
   ]
  },
  {
   "cell_type": "markdown",
   "metadata": {},
   "source": [
    "For each of the new images, print out the model's softmax probabilities to show the **certainty** of the model's predictions (limit the output to the top 5 probabilities for each image). [`tf.nn.top_k`](https://www.tensorflow.org/versions/r0.12/api_docs/python/nn.html#top_k) could prove helpful here. \n",
    "\n",
    "The example below demonstrates how tf.nn.top_k can be used to find the top k predictions for each image.\n",
    "\n",
    "`tf.nn.top_k` will return the values and indices (class ids) of the top k predictions. So if k=3, for each sign, it'll return the 3 largest probabilities (out of a possible 43) and the correspoding class ids.\n",
    "\n",
    "Take this numpy array as an example. The values in the array represent predictions. The array contains softmax probabilities for five candidate images with six possible classes. `tf.nn.top_k` is used to choose the three classes with the highest probability:\n",
    "\n",
    "```\n",
    "# (5, 6) array\n",
    "a = np.array([[ 0.24879643,  0.07032244,  0.12641572,  0.34763842,  0.07893497,\n",
    "         0.12789202],\n",
    "       [ 0.28086119,  0.27569815,  0.08594638,  0.0178669 ,  0.18063401,\n",
    "         0.15899337],\n",
    "       [ 0.26076848,  0.23664738,  0.08020603,  0.07001922,  0.1134371 ,\n",
    "         0.23892179],\n",
    "       [ 0.11943333,  0.29198961,  0.02605103,  0.26234032,  0.1351348 ,\n",
    "         0.16505091],\n",
    "       [ 0.09561176,  0.34396535,  0.0643941 ,  0.16240774,  0.24206137,\n",
    "         0.09155967]])\n",
    "```\n",
    "\n",
    "Running it through `sess.run(tf.nn.top_k(tf.constant(a), k=3))` produces:\n",
    "\n",
    "```\n",
    "TopKV2(values=array([[ 0.34763842,  0.24879643,  0.12789202],\n",
    "       [ 0.28086119,  0.27569815,  0.18063401],\n",
    "       [ 0.26076848,  0.23892179,  0.23664738],\n",
    "       [ 0.29198961,  0.26234032,  0.16505091],\n",
    "       [ 0.34396535,  0.24206137,  0.16240774]]), indices=array([[3, 0, 5],\n",
    "       [0, 1, 4],\n",
    "       [0, 5, 1],\n",
    "       [1, 3, 5],\n",
    "       [1, 4, 3]], dtype=int32))\n",
    "```\n",
    "\n",
    "Looking just at the first row we get `[ 0.34763842,  0.24879643,  0.12789202]`, you can confirm these are the 3 largest probabilities in `a`. You'll also notice `[3, 0, 5]` are the corresponding indices."
   ]
  },
  {
   "cell_type": "code",
   "execution_count": 33,
   "metadata": {},
   "outputs": [
    {
     "name": "stdout",
     "output_type": "stream",
     "text": [
      "INFO:tensorflow:Restoring parameters from ./lenet\n"
     ]
    },
    {
     "data": {
      "image/png": "[encoded data removed]",
      "text/plain": [
       "<Figure size 864x1008 with 36 Axes>"
      ]
     },
     "metadata": {
      "needs_background": "light"
     },
     "output_type": "display_data"
    }
   ],
   "source": [
    "### Print out the top five softmax probabilities for the predictions on the German traffic sign images found on the web. \n",
    "\n",
    "softmax_logits = tf.nn.softmax(logits)\n",
    "top_k = tf.nn.top_k(softmax_logits, k=3)\n",
    "\n",
    "\n",
    "with tf.Session() as sess:\n",
    "    sess.run(tf.global_variables_initializer())\n",
    "    saver.restore(sess, \"./lenet\")\n",
    "    softmax_logits_results = sess.run(softmax_logits, feed_dict={x: X_new_test_normalize, keep_prob: 1.0})\n",
    "    top_k_results = sess.run(top_k, feed_dict={x: X_new_test_normalize, keep_prob: 1.0})\n",
    "    \n",
    "    fig, axs = plt.subplots(len(X_new_test),4, figsize=(12, 14))\n",
    "    fig.subplots_adjust(hspace = .4, wspace=.2)\n",
    "    axs = axs.ravel()\n",
    "    \n",
    "    for i, image in enumerate(X_new_test):\n",
    "        axs[4*i].axis('off')\n",
    "        axs[4*i].imshow(image)\n",
    "        axs[4*i].set_title('input')\n",
    "        guess1 = top_k_results[1][i][0]\n",
    "        index1 = np.argwhere(y_valid == guess1)[0]\n",
    "        axs[4*i+1].axis('off')\n",
    "        axs[4*i+1].imshow(X_valid_normalized[index1].squeeze(), cmap='gray')\n",
    "        axs[4*i+1].set_title('1st: {} ({:.0f}%)'.format(guess1, 100*top_k_results[0][i][0]))\n",
    "        guess2 = top_k_results[1][i][1]\n",
    "        index2 = np.argwhere(y_valid == guess2)[0]\n",
    "        axs[4*i+2].axis('off')\n",
    "        axs[4*i+2].imshow(X_valid_normalized[index2].squeeze(), cmap='gray')\n",
    "        axs[4*i+2].set_title('2nd: {} ({:.0f}%)'.format(guess2, 100*top_k_results[0][i][1]))\n",
    "        guess3 = top_k_results[1][i][2]\n",
    "        index3 = np.argwhere(y_valid == guess3)[0]\n",
    "        axs[4*i+3].axis('off')\n",
    "        axs[4*i+3].imshow(X_valid_normalized[index3].squeeze(), cmap='gray')\n",
    "        axs[4*i+3].set_title('3rd: {} ({:.0f}%)'.format(guess3, 100*top_k_results[0][i][2]))"
   ]
  },
  {
   "cell_type": "markdown",
   "metadata": {},
   "source": [
    "### Project Writeup\n",
    "\n",
    "Once you have completed the code implementation, document your results in a project writeup using this [template](https://github.com/udacity/CarND-Traffic-Sign-Classifier-Project/blob/master/writeup_template.md) as a guide. The writeup can be in a markdown or pdf file. "
   ]
  },
  {
   "cell_type": "markdown",
   "metadata": {},
   "source": [
    "> **Note**: Once you have completed all of the code implementations and successfully answered each question above, you may finalize your work by exporting the iPython Notebook as an HTML document. You can do this by using the menu above and navigating to  \\n\",\n",
    "    \"**File -> Download as -> HTML (.html)**. Include the finished document along with this notebook as your submission."
   ]
  },
  {
   "cell_type": "markdown",
   "metadata": {},
   "source": [
    "---\n",
    "\n",
    "## Step 4: Visualize the Neural Network's State with Test Images\n",
    "\n",
    " This Section is not required to complete but acts as an additional excersise for understaning the output of a neural network's weights. While neural networks can be a great learning device they are often referred to as a black box. We can understand what the weights of a neural network look like better by plotting their feature maps. After successfully training your neural network you can see what it's feature maps look like by plotting the output of the network's weight layers in response to a test stimuli image. From these plotted feature maps, it's possible to see what characteristics of an image the network finds interesting. For a sign, maybe the inner network feature maps react with high activation to the sign's boundary outline or to the contrast in the sign's painted symbol.\n",
    "\n",
    " Provided for you below is the function code that allows you to get the visualization output of any tensorflow weight layer you want. The inputs to the function should be a stimuli image, one used during training or a new one you provided, and then the tensorflow variable name that represents the layer's state during the training process, for instance if you wanted to see what the [LeNet lab's](https://classroom.udacity.com/nanodegrees/nd013/parts/fbf77062-5703-404e-b60c-95b78b2f3f9e/modules/6df7ae49-c61c-4bb2-a23e-6527e69209ec/lessons/601ae704-1035-4287-8b11-e2c2716217ad/concepts/d4aca031-508f-4e0b-b493-e7b706120f81) feature maps looked like for it's second convolutional layer you could enter conv2 as the tf_activation variable.\n",
    "\n",
    "For an example of what feature map outputs look like, check out NVIDIA's results in their paper [End-to-End Deep Learning for Self-Driving Cars](https://devblogs.nvidia.com/parallelforall/deep-learning-self-driving-cars/) in the section Visualization of internal CNN State. NVIDIA was able to show that their network's inner weights had high activations to road boundary lines by comparing feature maps from an image with a clear path to one without. Try experimenting with a similar test to show that your trained network's weights are looking for interesting features, whether it's looking at differences in feature maps from images with or without a sign, or even what feature maps look like in a trained network vs a completely untrained one on the same sign image.\n",
    "\n",
    "<figure>\n",
    " <img src=\"visualize_cnn.png\" width=\"380\" alt=\"Combined Image\" />\n",
    " <figcaption>\n",
    " <p></p> \n",
    " <p style=\"text-align: center;\"> Your output should look something like this (above)</p> \n",
    " </figcaption>\n",
    "</figure>\n",
    " <p></p> \n"
   ]
  },
  {
   "cell_type": "code",
   "execution_count": 34,
   "metadata": {},
   "outputs": [],
   "source": [
    "### Visualize your network's feature maps here.\n",
    "### Feel free to use as many code cells as needed.\n",
    "\n",
    "# image_input: the test image being fed into the network to produce the feature maps\n",
    "# tf_activation: should be a tf variable name used during your training procedure that represents the calculated state of a specific weight layer\n",
    "# activation_min/max: can be used to view the activation contrast in more detail, by default matplot sets min and max to the actual min and max values of the output\n",
    "# plt_num: used to plot out multiple different weight feature map sets on the same block, just extend the plt number for each new feature map entry\n",
    "\n",
    "def outputFeatureMap(sess,image_input, tf_activation, activation_min=-1, activation_max=-1 ,plt_num=1):\n",
    "    # Here make sure to preprocess your image_input in a way your network expects\n",
    "    # with size, normalization, ect if needed\n",
    "    # image_input =\n",
    "    # Note: x should be the same name as your network's tensorflow data placeholder variable\n",
    "    # If you get an error tf_activation is not defined it may be having trouble accessing the variable from inside a function\n",
    "    activation = tf_activation.eval(session=sess,feed_dict={x : image_input})\n",
    "    featuremaps = activation.shape[3]\n",
    "    plt.figure(plt_num, figsize=(15,15))\n",
    "    for featuremap in range(featuremaps):\n",
    "        plt.subplot(6,8, featuremap+1) # sets the number of feature maps to show on each row and column\n",
    "        plt.title('FeatureMap ' + str(featuremap)) # displays the feature map number\n",
    "        if activation_min != -1 & activation_max != -1:\n",
    "            plt.imshow(activation[0,:,:, featuremap], interpolation=\"nearest\", vmin =activation_min, vmax=activation_max, cmap=\"gray\")\n",
    "        elif activation_max != -1:\n",
    "            plt.imshow(activation[0,:,:, featuremap], interpolation=\"nearest\", vmax=activation_max, cmap=\"gray\")\n",
    "        elif activation_min !=-1:\n",
    "            plt.imshow(activation[0,:,:, featuremap], interpolation=\"nearest\", vmin=activation_min, cmap=\"gray\")\n",
    "        else:\n",
    "            plt.imshow(activation[0,:,:, featuremap], interpolation=\"nearest\", cmap=\"gray\")"
   ]
  },
  {
   "cell_type": "code",
   "execution_count": 35,
   "metadata": {},
   "outputs": [
    {
     "data": {
      "image/png": "[encoded data removed]",
      "text/plain": [
       "<Figure size 432x288 with 1 Axes>"
      ]
     },
     "metadata": {
      "needs_background": "light"
     },
     "output_type": "display_data"
    }
   ],
   "source": [
    "index = random.randint(0, len(X_new_test_normalize))\n",
    "plt.imshow(X_new_test_normalize[index].squeeze(), cmap='gray')\n",
    "plt.show()"
   ]
  },
  {
   "cell_type": "code",
   "execution_count": 37,
   "metadata": {},
   "outputs": [
    {
     "name": "stdout",
     "output_type": "stream",
     "text": [
      "INFO:tensorflow:Restoring parameters from ./lenet\n"
     ]
    },
    {
     "data": {
      "image/png": "[encoded data removed]",
      "text/plain": [
       "<Figure size 1080x1080 with 6 Axes>"
      ]
     },
     "metadata": {
      "needs_background": "light"
     },
     "output_type": "display_data"
    }
   ],
   "source": [
    "img =  np.reshape(X_new_test_normalize[index], (1,32,32, 1))\n",
    "sess1=tf.Session()\n",
    "sess1.run(tf.global_variables_initializer())\n",
    "saver.restore(sess1, \"./lenet\")\n",
    "sess1.run(training_operation, feed_dict={x: X_new_test_normalize, y: y_new_test, keep_prob: 0.5})\n",
    "outputFeatureMap(sess1,img, NETWORK_PARAMS[\"layer1\"])"
   ]
  },
  {
   "cell_type": "code",
   "execution_count": null,
   "metadata": {},
   "outputs": [],
   "source": []
  }
 ],
 "metadata": {
  "anaconda-cloud": {},
  "kernelspec": {
   "display_name": "Python 3",
   "language": "python",
   "name": "python3"
  },
  "language_info": {
   "codemirror_mode": {
    "name": "ipython",
    "version": 3
   },
   "file_extension": ".py",
   "mimetype": "text/x-python",
   "name": "python",
   "nbconvert_exporter": "python",
   "pygments_lexer": "ipython3",
   "version": "3.6.8"
  }
 },
 "nbformat": 4,
 "nbformat_minor": 1
}
