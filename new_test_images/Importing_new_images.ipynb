{
 "cells": [
  {
   "cell_type": "code",
   "execution_count": 1,
   "metadata": {},
   "outputs": [],
   "source": [
    "import cv2 \n",
    "import glob\n",
    "import matplotlib.pyplot as plt\n",
    "import matplotlib.image as mpimg\n",
    "import numpy as np\n",
    "import pickle"
   ]
  },
  {
   "cell_type": "code",
   "execution_count": 2,
   "metadata": {},
   "outputs": [
    {
     "name": "stdout",
     "output_type": "stream",
     "text": [
      "image_8.jpg\n",
      "image_5.jpg\n",
      "image_7.jpg\n",
      "image_9.jpg\n",
      "image_1.jpg\n",
      "image_4.jpg\n",
      "image_2.jpg\n",
      "image_6.jpg\n",
      "image_3.jpg\n",
      "(9, 32, 32, 3)\n",
      "<class 'numpy.ndarray'>\n"
     ]
    },
    {
     "data": {
      "text/plain": [
       "<matplotlib.image.AxesImage at 0x7f3dd841d278>"
      ]
     },
     "execution_count": 2,
     "metadata": {},
     "output_type": "execute_result"
    },
    {
     "data": {
      "image/png": "[encoded data removed]",
      "text/plain": [
       "<Figure size 432x288 with 1 Axes>"
      ]
     },
     "metadata": {
      "needs_background": "light"
     },
     "output_type": "display_data"
    }
   ],
   "source": [
    "images = glob.glob('image_*.jpg')\n",
    "count = 0\n",
    "for image in images:\n",
    "    print(image)\n",
    "    #read each image\n",
    "    img = mpimg.imread(image) \n",
    "    img = np.reshape(img,(1,32,32,3))\n",
    "    if count == 0:\n",
    "        my_images = img\n",
    "        count += 1\n",
    "    else:\n",
    "        my_images = np.concatenate((my_images,img))\n",
    "    \n",
    "    \n",
    "print(my_images.shape)\n",
    "print(type(my_images))\n",
    "plt.imshow(my_images[5])"
   ]
  },
  {
   "cell_type": "code",
   "execution_count": 3,
   "metadata": {},
   "outputs": [
    {
     "name": "stdout",
     "output_type": "stream",
     "text": [
      "done\n"
     ]
    }
   ],
   "source": [
    "y_new_labels = np.array([22,11,17,18,25,4,14,1,13])\n",
    "new_test_images = {'features': my_images,\n",
    "             'labels': y_new_labels}\n",
    "pickle.dump(new_test_images, open( \"new_test_images.p\", \"wb\" ) )\n",
    "\n",
    "print('done')"
   ]
  },
  {
   "cell_type": "code",
   "execution_count": 4,
   "metadata": {},
   "outputs": [
    {
     "name": "stdout",
     "output_type": "stream",
     "text": [
      "X_test shape: (9, 32, 32, 3)\n",
      "y_test shape: (9,)\n"
     ]
    },
    {
     "data": {
      "text/plain": [
       "<matplotlib.image.AxesImage at 0x7f3dd83b8c18>"
      ]
     },
     "execution_count": 4,
     "metadata": {},
     "output_type": "execute_result"
    },
    {
     "data": {
      "image/png": "[encoded data removed]",
      "text/plain": [
       "<Figure size 432x288 with 1 Axes>"
      ]
     },
     "metadata": {
      "needs_background": "light"
     },
     "output_type": "display_data"
    }
   ],
   "source": [
    "testing_file = \"new_test_images.p\"\n",
    "\n",
    "with open(testing_file, mode='rb') as f:\n",
    "    new_test_images_0 = pickle.load(f)\n",
    "    \n",
    "X_new_test, y_new_test = new_test_images_0['features'], new_test_images_0['labels']\n",
    "\n",
    "print(\"X_test shape:\", X_new_test.shape)\n",
    "print(\"y_test shape:\", y_new_test.shape)\n",
    "plt.imshow(X_new_test[5])"
   ]
  },
  {
   "cell_type": "code",
   "execution_count": null,
   "metadata": {},
   "outputs": [],
   "source": []
  }
 ],
 "metadata": {
  "kernelspec": {
   "display_name": "Python 3",
   "language": "python",
   "name": "python3"
  },
  "language_info": {
   "codemirror_mode": {
    "name": "ipython",
    "version": 3
   },
   "file_extension": ".py",
   "mimetype": "text/x-python",
   "name": "python",
   "nbconvert_exporter": "python",
   "pygments_lexer": "ipython3",
   "version": "3.6.8"
  }
 },
 "nbformat": 4,
 "nbformat_minor": 2
}
